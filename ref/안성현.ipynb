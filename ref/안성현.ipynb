{
 "cells": [
  {
   "cell_type": "markdown",
   "metadata": {},
   "source": [
    "### 1번문제"
   ]
  },
  {
   "cell_type": "code",
   "execution_count": 202,
   "metadata": {},
   "outputs": [
    {
     "name": "stdout",
     "output_type": "stream",
     "text": [
      "숫자만 입력해주세요\n"
     ]
    }
   ],
   "source": [
    "# 1번문제\n",
    "# 반지름 값을 입력받아 원의 넓이를 구하여 출력하는 프로그램을 구현하세요.\n",
    "\n",
    "def circle():\n",
    "    try:\n",
    "        r = float(input('넓이를 구하고 싶은 원의 반지름을 입력하세요 : '))\n",
    "        res = r * r * 3.141592\n",
    "        print('원의 넓이는', res, '입니다.')\n",
    "    except Exception as e:\n",
    "        print('숫자만 입력해주세요')\n",
    "        \n",
    "circle()"
   ]
  },
  {
   "cell_type": "markdown",
   "metadata": {},
   "source": [
    "### 2번문제"
   ]
  },
  {
   "cell_type": "code",
   "execution_count": 192,
   "metadata": {},
   "outputs": [
    {
     "name": "stdout",
     "output_type": "stream",
     "text": [
      "입력한 행성의 이름을 다시 확인해주세요\n"
     ]
    }
   ],
   "source": [
    "# 2번문제\n",
    "# 행성의 한글이름을 입력하면 영어행성명이 출력되는 프로그램을 구현하세요.\n",
    "\n",
    "def planet():    \n",
    "    dic = {'수성':'Mercury', '금성':'Venus', '지구':'Earth', '화성':'Mars',\\\n",
    "           '목성':'Jupiter', '토성':'Saturn', '천왕성':'Uranus', '해왕성':'Neptune'}\n",
    "    name = input('찾고 싶은 행성의 한글이름을 적으세요 : ')\n",
    "    try:\n",
    "        print(dic[name])\n",
    "    except Exception as e:\n",
    "        print('입력한 행성의 이름을 다시 확인해주세요')\n",
    "\n",
    "planet()"
   ]
  },
  {
   "cell_type": "markdown",
   "metadata": {},
   "source": [
    "### 3번문제"
   ]
  },
  {
   "cell_type": "code",
   "execution_count": 194,
   "metadata": {},
   "outputs": [
    {
     "name": "stdout",
     "output_type": "stream",
     "text": [
      "5\n"
     ]
    }
   ],
   "source": [
    "# 3번문제\n",
    "# 입력한 한글 문자열의 단어의 수를 출력하는 프로그램을 구현하세요.\n",
    "\n",
    "def functi():\n",
    "    a = input('단어의 수를 확인할 한글문장을 입력하세요 : ')\n",
    "    if a.upper() != a.lower():\n",
    "        print('한글만 입력하세요')\n",
    "    else:\n",
    "        b = a.split()\n",
    "        print(len(b))\n",
    "\n",
    "functi()\n",
    "\n",
    "## 숫자랑 특수문자는 사용자가 입력하지 못하게 하는 법을 잘 모르겠습니다...."
   ]
  },
  {
   "cell_type": "markdown",
   "metadata": {},
   "source": [
    "### 4번문제"
   ]
  },
  {
   "cell_type": "code",
   "execution_count": 1,
   "metadata": {},
   "outputs": [
    {
     "name": "stdout",
     "output_type": "stream",
     "text": [
      "숫자만 입력하세요\n"
     ]
    }
   ],
   "source": [
    "# 4번문제\n",
    "# 입력한 수를 거꾸로 출력하는 프로그램을 구현하세요.\n",
    "\n",
    "def pri():\n",
    "    a = input('거꾸로 출력하고 싶은 숫자를 입력하세요 : ')\n",
    "    b = a.isdigit()\n",
    "    if b == True:\n",
    "        print(a[::-1])\n",
    "    else:\n",
    "        print('숫자만 입력하세요')\n",
    "\n",
    "pri()"
   ]
  },
  {
   "cell_type": "code",
   "execution_count": 2,
   "metadata": {},
   "outputs": [
    {
     "name": "stdout",
     "output_type": "stream",
     "text": [
      "2 8 9 5 4 1 "
     ]
    }
   ],
   "source": [
    "# 4번문제 풀이\n",
    "# 입력한 수를 거꾸로 출력하는 프로그램을 구현하세요.\n",
    "\n",
    "input_strs = input('수를 입력하세요 > ').split(' ')\n",
    "\n",
    "for i in reversed(input_strs):\n",
    "    print(i, end=' ')"
   ]
  },
  {
   "cell_type": "markdown",
   "metadata": {},
   "source": [
    "### 5번문제"
   ]
  },
  {
   "cell_type": "code",
   "execution_count": 208,
   "metadata": {},
   "outputs": [
    {
     "name": "stdout",
     "output_type": "stream",
     "text": [
      "숫자만 입력하세요\n"
     ]
    }
   ],
   "source": [
    "# 5번문제\n",
    "# 구구단을 수행할 단번호를 입력하면 그 단의 9까지의 결과를 나열하는 프로그램을 입력하세요.\n",
    "\n",
    "def gugudan():\n",
    "    a = input('구구단을 수행할 단번호를 입력하세요 : ')\n",
    "    b = a.isdigit()\n",
    "    if b == True:\n",
    "        x = int(a)\n",
    "        for x in range(x, x+1):\n",
    "            print(f'{x}단 시작')\n",
    "            for y in range(1, 10):\n",
    "                print(f'{x}x{y}={x*y:2d}', end=' ')\n",
    "            print()\n",
    "    else:\n",
    "        print('숫자만 입력하세요')\n",
    "\n",
    "gugudan()"
   ]
  },
  {
   "cell_type": "code",
   "execution_count": null,
   "metadata": {},
   "outputs": [],
   "source": [
    "input_str = input('단번호 입력 : ')\n",
    "num = int(input_str)\n",
    "\n",
    "for y in range(1, 10):\n",
    "    print(num*y, end=' ')"
   ]
  }
 ],
 "metadata": {
  "interpreter": {
   "hash": "38ae1ba9371524da054e8e3fbefd778d16b5a8ac7937a3f395010f627bb73919"
  },
  "kernelspec": {
   "display_name": "Python 3.9.12 64-bit",
   "language": "python",
   "name": "python3"
  },
  "language_info": {
   "codemirror_mode": {
    "name": "ipython",
    "version": 3
   },
   "file_extension": ".py",
   "mimetype": "text/x-python",
   "name": "python",
   "nbconvert_exporter": "python",
   "pygments_lexer": "ipython3",
   "version": "3.9.12"
  },
  "orig_nbformat": 4
 },
 "nbformat": 4,
 "nbformat_minor": 2
}
